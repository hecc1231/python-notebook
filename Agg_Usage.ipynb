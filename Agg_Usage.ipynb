{
 "cells": [
  {
   "cell_type": "markdown",
   "metadata": {},
   "source": [
    "Agg 常与 Groupby共同使用, Agg传入的是分组后的一整列(和apply一样)，返回的一定是一个值，因为每个分组只对应一个值，即聚合"
   ]
  },
  {
   "cell_type": "code",
   "execution_count": 21,
   "metadata": {},
   "outputs": [
    {
     "name": "stdout",
     "output_type": "stream",
     "text": [
      "    USRID  day\n",
      "0       1   10\n",
      "1       1   10\n",
      "2       1    5\n",
      "3       1    6\n",
      "4       1    3\n",
      "5       2    2\n",
      "6       2    1\n",
      "7       2    2\n",
      "8       3    1\n",
      "9       3   18\n",
      "10      4   23\n",
      "11      5   12\n",
      "12      6   12\n"
     ]
    }
   ],
   "source": [
    "import pandas as pd\n",
    "import numpy as np\n",
    "\n",
    "data = pd.DataFrame({'USRID':[1, 1, 1, 1, 1, 2, 2, 2, 3, 3, 4, 5, 6], 'day':[10, 10, 5, 6, 3, 2, 1, 2, 1, 18, 23, 12, 12]})\n",
    "\n",
    "print(data)"
   ]
  },
  {
   "cell_type": "markdown",
   "metadata": {},
   "source": [
    "按照USRID分组后求一般统计值(mean, max, min)"
   ]
  },
  {
   "cell_type": "code",
   "execution_count": 2,
   "metadata": {},
   "outputs": [
    {
     "name": "stdout",
     "output_type": "stream",
     "text": [
      "USRID\n",
      "1    5\n",
      "2    3\n",
      "3    2\n",
      "4    1\n",
      "5    1\n",
      "6    1\n",
      "dtype: int64\n"
     ]
    }
   ],
   "source": [
    "data_user = data.groupby('USRID')\n",
    "print(data_user.size())"
   ]
  },
  {
   "cell_type": "markdown",
   "metadata": {},
   "source": [
    "对每一组的天数求均值，最大值，最小值，并对新列命名"
   ]
  },
  {
   "cell_type": "code",
   "execution_count": 19,
   "metadata": {},
   "outputs": [
    {
     "name": "stdout",
     "output_type": "stream",
     "text": [
      "\n",
      "----agg----\n",
      "\n",
      "0    10\n",
      "1    10\n",
      "2     5\n",
      "3     6\n",
      "4     3\n",
      "Name: day, dtype: int64\n",
      "5    2\n",
      "6    1\n",
      "7    2\n",
      "Name: day, dtype: int64\n",
      "8     1\n",
      "9    18\n",
      "Name: day, dtype: int64\n",
      "10    23\n",
      "Name: day, dtype: int64\n",
      "11    12\n",
      "Name: day, dtype: int64\n",
      "12    12\n",
      "Name: day, dtype: int64\n",
      "\n",
      "----apply----\n",
      "\n",
      "0    10\n",
      "1    10\n",
      "2     5\n",
      "3     6\n",
      "4     3\n",
      "Name: 1, dtype: int64\n",
      "5    2\n",
      "6    1\n",
      "7    2\n",
      "Name: 2, dtype: int64\n",
      "8     1\n",
      "9    18\n",
      "Name: 3, dtype: int64\n",
      "10    23\n",
      "Name: 4, dtype: int64\n",
      "11    12\n",
      "Name: 5, dtype: int64\n",
      "12    12\n",
      "Name: 6, dtype: int64\n"
     ]
    },
    {
     "data": {
      "text/plain": [
       "USRID\n",
       "1    None\n",
       "2    None\n",
       "3    None\n",
       "4    None\n",
       "5    None\n",
       "6    None\n",
       "Name: day, dtype: object"
      ]
     },
     "execution_count": 19,
     "metadata": {},
     "output_type": "execute_result"
    }
   ],
   "source": [
    "# 查看传入agg的参数\n",
    "print('\\n----agg----\\n')\n",
    "data.groupby('USRID')['day'].agg(lambda x: print(x))\n",
    "# 可以看到传入的是groupby后的一整列\n",
    "# apply也是一样\n",
    "print('\\n----apply----\\n')\n",
    "data.groupby('USRID')['day'].apply(lambda x: print(x))"
   ]
  },
  {
   "cell_type": "code",
   "execution_count": 5,
   "metadata": {},
   "outputs": [
    {
     "data": {
      "text/plain": [
       "USRID\n",
       "1    [10, 10, 5, 6, 3]\n",
       "2            [2, 1, 2]\n",
       "3              [1, 18]\n",
       "4                 [23]\n",
       "5                 [12]\n",
       "6                 [12]\n",
       "dtype: object"
      ]
     },
     "execution_count": 5,
     "metadata": {},
     "output_type": "execute_result"
    }
   ],
   "source": [
    "# 把某个人的day变成list\n",
    "data.groupby('USRID')['day'].agg(lambda x: list(x))\n",
    "# 如要得到用户时间间隔特征，可以用该方法"
   ]
  },
  {
   "cell_type": "code",
   "execution_count": 8,
   "metadata": {},
   "outputs": [
    {
     "data": {
      "text/html": [
       "<div>\n",
       "<style>\n",
       "    .dataframe thead tr:only-child th {\n",
       "        text-align: right;\n",
       "    }\n",
       "\n",
       "    .dataframe thead th {\n",
       "        text-align: left;\n",
       "    }\n",
       "\n",
       "    .dataframe tbody tr th {\n",
       "        vertical-align: top;\n",
       "    }\n",
       "</style>\n",
       "<table border=\"1\" class=\"dataframe\">\n",
       "  <thead>\n",
       "    <tr style=\"text-align: right;\">\n",
       "      <th></th>\n",
       "      <th>mean</th>\n",
       "      <th>std</th>\n",
       "      <th>amax</th>\n",
       "    </tr>\n",
       "    <tr>\n",
       "      <th>USRID</th>\n",
       "      <th></th>\n",
       "      <th></th>\n",
       "      <th></th>\n",
       "    </tr>\n",
       "  </thead>\n",
       "  <tbody>\n",
       "    <tr>\n",
       "      <th>1</th>\n",
       "      <td>6.800000</td>\n",
       "      <td>3.114482</td>\n",
       "      <td>10</td>\n",
       "    </tr>\n",
       "    <tr>\n",
       "      <th>2</th>\n",
       "      <td>1.666667</td>\n",
       "      <td>0.577350</td>\n",
       "      <td>2</td>\n",
       "    </tr>\n",
       "    <tr>\n",
       "      <th>3</th>\n",
       "      <td>9.500000</td>\n",
       "      <td>12.020815</td>\n",
       "      <td>18</td>\n",
       "    </tr>\n",
       "    <tr>\n",
       "      <th>4</th>\n",
       "      <td>23.000000</td>\n",
       "      <td>NaN</td>\n",
       "      <td>23</td>\n",
       "    </tr>\n",
       "    <tr>\n",
       "      <th>5</th>\n",
       "      <td>12.000000</td>\n",
       "      <td>NaN</td>\n",
       "      <td>12</td>\n",
       "    </tr>\n",
       "    <tr>\n",
       "      <th>6</th>\n",
       "      <td>12.000000</td>\n",
       "      <td>NaN</td>\n",
       "      <td>12</td>\n",
       "    </tr>\n",
       "  </tbody>\n",
       "</table>\n",
       "</div>"
      ],
      "text/plain": [
       "            mean        std  amax\n",
       "USRID                            \n",
       "1       6.800000   3.114482    10\n",
       "2       1.666667   0.577350     2\n",
       "3       9.500000  12.020815    18\n",
       "4      23.000000        NaN    23\n",
       "5      12.000000        NaN    12\n",
       "6      12.000000        NaN    12"
      ]
     },
     "execution_count": 8,
     "metadata": {},
     "output_type": "execute_result"
    }
   ],
   "source": [
    "# 如统计day的平均值\n",
    "data.groupby('USRID')['day'].agg([np.mean, np.std, np.max])"
   ]
  },
  {
   "cell_type": "markdown",
   "metadata": {},
   "source": [
    "如果需要更改列名"
   ]
  },
  {
   "cell_type": "code",
   "execution_count": 10,
   "metadata": {},
   "outputs": [
    {
     "data": {
      "text/html": [
       "<div>\n",
       "<style>\n",
       "    .dataframe thead tr:only-child th {\n",
       "        text-align: right;\n",
       "    }\n",
       "\n",
       "    .dataframe thead th {\n",
       "        text-align: left;\n",
       "    }\n",
       "\n",
       "    .dataframe tbody tr th {\n",
       "        vertical-align: top;\n",
       "    }\n",
       "</style>\n",
       "<table border=\"1\" class=\"dataframe\">\n",
       "  <thead>\n",
       "    <tr style=\"text-align: right;\">\n",
       "      <th></th>\n",
       "      <th>USRID</th>\n",
       "      <th>user_mean</th>\n",
       "      <th>std</th>\n",
       "      <th>amax</th>\n",
       "    </tr>\n",
       "  </thead>\n",
       "  <tbody>\n",
       "    <tr>\n",
       "      <th>0</th>\n",
       "      <td>1</td>\n",
       "      <td>6.800000</td>\n",
       "      <td>3.114482</td>\n",
       "      <td>10</td>\n",
       "    </tr>\n",
       "    <tr>\n",
       "      <th>1</th>\n",
       "      <td>2</td>\n",
       "      <td>1.666667</td>\n",
       "      <td>0.577350</td>\n",
       "      <td>2</td>\n",
       "    </tr>\n",
       "    <tr>\n",
       "      <th>2</th>\n",
       "      <td>3</td>\n",
       "      <td>9.500000</td>\n",
       "      <td>12.020815</td>\n",
       "      <td>18</td>\n",
       "    </tr>\n",
       "    <tr>\n",
       "      <th>3</th>\n",
       "      <td>4</td>\n",
       "      <td>23.000000</td>\n",
       "      <td>NaN</td>\n",
       "      <td>23</td>\n",
       "    </tr>\n",
       "    <tr>\n",
       "      <th>4</th>\n",
       "      <td>5</td>\n",
       "      <td>12.000000</td>\n",
       "      <td>NaN</td>\n",
       "      <td>12</td>\n",
       "    </tr>\n",
       "    <tr>\n",
       "      <th>5</th>\n",
       "      <td>6</td>\n",
       "      <td>12.000000</td>\n",
       "      <td>NaN</td>\n",
       "      <td>12</td>\n",
       "    </tr>\n",
       "  </tbody>\n",
       "</table>\n",
       "</div>"
      ],
      "text/plain": [
       "   USRID  user_mean        std  amax\n",
       "0      1   6.800000   3.114482    10\n",
       "1      2   1.666667   0.577350     2\n",
       "2      3   9.500000  12.020815    18\n",
       "3      4  23.000000        NaN    23\n",
       "4      5  12.000000        NaN    12\n",
       "5      6  12.000000        NaN    12"
      ]
     },
     "execution_count": 10,
     "metadata": {},
     "output_type": "execute_result"
    }
   ],
   "source": [
    "data.groupby('USRID')['day'].agg([np.mean, np.std, np.max]).reset_index().rename(columns={'mean': 'user_mean'})"
   ]
  },
  {
   "cell_type": "code",
   "execution_count": 16,
   "metadata": {},
   "outputs": [
    {
     "name": "stdout",
     "output_type": "stream",
     "text": [
      "0    10\n",
      "1    10\n",
      "2     5\n",
      "3     6\n",
      "4     3\n",
      "Name: 1, dtype: int64\n",
      "5    2\n",
      "6    1\n",
      "7    2\n",
      "Name: 2, dtype: int64\n",
      "8     1\n",
      "9    18\n",
      "Name: 3, dtype: int64\n",
      "10    23\n",
      "Name: 4, dtype: int64\n",
      "11    12\n",
      "Name: 5, dtype: int64\n",
      "12    12\n",
      "Name: 6, dtype: int64\n"
     ]
    },
    {
     "data": {
      "text/plain": [
       "USRID\n",
       "1    None\n",
       "2    None\n",
       "3    None\n",
       "4    None\n",
       "5    None\n",
       "6    None\n",
       "Name: day, dtype: object"
      ]
     },
     "execution_count": 16,
     "metadata": {},
     "output_type": "execute_result"
    }
   ],
   "source": [
    "# 自定义求均值函数\n",
    "def custom_sta(df, params):\n",
    "    return np.mean(df)\n",
    "    \n",
    "data.groupby('USRID')['day'].agg(custom_mean)\n"
   ]
  }
 ],
 "metadata": {
  "kernelspec": {
   "display_name": "Python 3",
   "language": "python",
   "name": "python3"
  },
  "language_info": {
   "codemirror_mode": {
    "name": "ipython",
    "version": 3
   },
   "file_extension": ".py",
   "mimetype": "text/x-python",
   "name": "python",
   "nbconvert_exporter": "python",
   "pygments_lexer": "ipython3",
   "version": "3.5.2"
  }
 },
 "nbformat": 4,
 "nbformat_minor": 2
}
